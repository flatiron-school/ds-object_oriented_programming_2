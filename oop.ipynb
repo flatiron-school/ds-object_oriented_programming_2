{
 "cells": [
  {
   "cell_type": "markdown",
   "metadata": {
    "toc": true
   },
   "source": [
    "<h1>Table of Contents<span class=\"tocSkip\"></span></h1>\n",
    "<div class=\"toc\"><ul class=\"toc-item\"><li><span><a href=\"#Agenda\" data-toc-modified-id=\"Agenda-1\"><span class=\"toc-item-num\">1&nbsp;&nbsp;</span>Agenda</a></span></li><li><span><a href=\"#Describe-the-relationship-of-classes-to-objects,-and-learn-to-code-classes\" data-toc-modified-id=\"Describe-the-relationship-of-classes-to-objects,-and-learn-to-code-classes-2\"><span class=\"toc-item-num\">2&nbsp;&nbsp;</span>Describe the relationship of classes to objects, and learn to code classes</a></span><ul class=\"toc-item\"><li><span><a href=\"#Classes\" data-toc-modified-id=\"Classes-2.1\"><span class=\"toc-item-num\">2.1&nbsp;&nbsp;</span>Classes</a></span></li><li><span><a href=\"#Methods\" data-toc-modified-id=\"Methods-2.2\"><span class=\"toc-item-num\">2.2&nbsp;&nbsp;</span>Methods</a></span></li><li><span><a href=\"#Magic-Methods\" data-toc-modified-id=\"Magic-Methods-2.3\"><span class=\"toc-item-num\">2.3&nbsp;&nbsp;</span>Magic Methods</a></span></li><li><span><a href=\"#Positional-vs.-Named-arguments\" data-toc-modified-id=\"Positional-vs.-Named-arguments-2.4\"><span class=\"toc-item-num\">2.4&nbsp;&nbsp;</span>Positional vs. Named arguments</a></span></li><li><span><a href=\"#Exercise\" data-toc-modified-id=\"Exercise-2.5\"><span class=\"toc-item-num\">2.5&nbsp;&nbsp;</span>Exercise</a></span></li></ul></li><li><span><a href=\"#Overview-of-inheritance\" data-toc-modified-id=\"Overview-of-inheritance-3\"><span class=\"toc-item-num\">3&nbsp;&nbsp;</span>Overview of inheritance</a></span><ul class=\"toc-item\"><li><span><a href=\"#Another-Example\" data-toc-modified-id=\"Another-Example-3.1\"><span class=\"toc-item-num\">3.1&nbsp;&nbsp;</span>Another Example</a></span></li><li><span><a href=\"#Exercise\" data-toc-modified-id=\"Exercise-3.2\"><span class=\"toc-item-num\">3.2&nbsp;&nbsp;</span>Exercise</a></span></li></ul></li><li><span><a href=\"#Important-data-science-tools-through-the-lens-of-objects:\" data-toc-modified-id=\"Important-data-science-tools-through-the-lens-of-objects:-4\"><span class=\"toc-item-num\">4&nbsp;&nbsp;</span>Important data science tools through the lens of objects:</a></span><ul class=\"toc-item\"><li><span><a href=\"#StandardScaler\" data-toc-modified-id=\"StandardScaler-4.1\"><span class=\"toc-item-num\">4.1&nbsp;&nbsp;</span><code>StandardScaler</code></a></span><ul class=\"toc-item\"><li><span><a href=\"#Attributes\" data-toc-modified-id=\"Attributes-4.1.1\"><span class=\"toc-item-num\">4.1.1&nbsp;&nbsp;</span>Attributes</a></span><ul class=\"toc-item\"><li><span><a href=\"#.scale_\" data-toc-modified-id=\".scale_-4.1.1.1\"><span class=\"toc-item-num\">4.1.1.1&nbsp;&nbsp;</span><code>.scale_</code></a></span></li></ul></li></ul></li><li><span><a href=\"#Task:-One-hot-Encoder\" data-toc-modified-id=\"Task:-One-hot-Encoder-4.2\"><span class=\"toc-item-num\">4.2&nbsp;&nbsp;</span>Task: One-hot Encoder</a></span></li></ul></li></ul></div>"
   ]
  },
  {
   "cell_type": "markdown",
   "metadata": {},
   "source": [
    "![fvo](https://cdn.educba.com/academy/wp-content/uploads/2018/07/Functional-Programming-vs-OOP-1.png)"
   ]
  },
  {
   "cell_type": "markdown",
   "metadata": {},
   "source": [
    "# Object-Oriented Programming"
   ]
  },
  {
   "cell_type": "code",
   "execution_count": null,
   "metadata": {},
   "outputs": [],
   "source": [
    "from sklearn.preprocessing import StandardScaler\n",
    "import numpy as np\n",
    "import pandas as pd\n",
    "from sklearn.preprocessing import OneHotEncoder\n",
    "from sklearn.datasets import make_regression"
   ]
  },
  {
   "cell_type": "markdown",
   "metadata": {
    "heading_collapsed": true
   },
   "source": [
    "## Agenda"
   ]
  },
  {
   "cell_type": "markdown",
   "metadata": {
    "hidden": true
   },
   "source": [
    "SWBAT:\n",
    "\n",
    "1. describe the relationship of classes and objects, and to code classes;\n",
    "2. explain the notion of inheritance;\n",
    "3. describe how the object structure is used in `sklearn` tools like `StandardScaler` and `OneHotEncoder`."
   ]
  },
  {
   "cell_type": "markdown",
   "metadata": {
    "heading_collapsed": true
   },
   "source": [
    "## Describe the relationship of classes to objects, and learn to code classes"
   ]
  },
  {
   "cell_type": "markdown",
   "metadata": {
    "hidden": true
   },
   "source": [
    "Each object is an instance of a **class** that defines a bundle of attributes and functions (now, as proprietary to the object type, called *methods*), the point being that **every object of that class will automatically have those proprietary attributes and methods**."
   ]
  },
  {
   "cell_type": "markdown",
   "metadata": {
    "hidden": true
   },
   "source": [
    "A class is like a blueprint that describes how to create a specific type of object.\n",
    "\n",
    "![blueprint](img/blueprint.jpeg)"
   ]
  },
  {
   "cell_type": "markdown",
   "metadata": {
    "heading_collapsed": true,
    "hidden": true
   },
   "source": [
    "### Classes\n",
    "\n",
    "We can define **new** classes of objects altogether by using the keyword `class`:"
   ]
  },
  {
   "cell_type": "code",
   "execution_count": null,
   "metadata": {
    "hidden": true
   },
   "outputs": [],
   "source": [
    "class Car:\n",
    "    \"\"\"Automotive object\"\"\"\n",
    "    pass # This is called a stub."
   ]
  },
  {
   "cell_type": "code",
   "execution_count": null,
   "metadata": {
    "hidden": true
   },
   "outputs": [],
   "source": [
    "# Instantiate a car object\n",
    "\n",
    "ferrari = Car()\n",
    "type(ferrari)"
   ]
  },
  {
   "cell_type": "code",
   "execution_count": null,
   "metadata": {
    "hidden": true
   },
   "outputs": [],
   "source": [
    "# We can give the Ferrari four wheels\n",
    "\n",
    "ferrari.wheels = 4\n",
    "ferrari.wheels"
   ]
  },
  {
   "cell_type": "markdown",
   "metadata": {
    "hidden": true
   },
   "source": [
    "But wouldn't it be nice not to have to do that every time? We'll just include the 4-wheels specification in the blueprint!"
   ]
  },
  {
   "cell_type": "code",
   "execution_count": null,
   "metadata": {
    "hidden": true
   },
   "outputs": [],
   "source": [
    "class Car:\n",
    "    \"\"\"Automotive object\"\"\"\n",
    "    \n",
    "    wheels = 4                      # These are attributes of *every* car."
   ]
  },
  {
   "cell_type": "code",
   "execution_count": null,
   "metadata": {
    "hidden": true
   },
   "outputs": [],
   "source": [
    "civic = Car()\n",
    "civic.wheels"
   ]
  },
  {
   "cell_type": "code",
   "execution_count": null,
   "metadata": {
    "hidden": true
   },
   "outputs": [],
   "source": [
    "#  Then we can add more attributes\n",
    "class Car:\n",
    "    \"\"\"Automotive object\"\"\"\n",
    "    \n",
    "    wheels = 4                      # These are attributes of *every* car.\n",
    "    doors = 4"
   ]
  },
  {
   "cell_type": "code",
   "execution_count": null,
   "metadata": {
    "hidden": true
   },
   "outputs": [],
   "source": [
    "ferrari = Car()\n",
    "ferrari.doors"
   ]
  },
  {
   "cell_type": "code",
   "execution_count": null,
   "metadata": {
    "hidden": true
   },
   "outputs": [],
   "source": [
    "ferrari.wheels"
   ]
  },
  {
   "cell_type": "code",
   "execution_count": null,
   "metadata": {
    "hidden": true
   },
   "outputs": [],
   "source": [
    "# Does your Ferrari have only 2 doors? \n",
    "# These attributes can be overwritten.\n",
    "\n",
    "ferrari.doors = 2\n",
    "ferrari.doors"
   ]
  },
  {
   "cell_type": "markdown",
   "metadata": {
    "heading_collapsed": true,
    "hidden": true
   },
   "source": [
    "### Methods\n",
    "\n",
    "We can also write functions that are associated with each class.  \n",
    "As said above, a function associated with a class is called a method."
   ]
  },
  {
   "cell_type": "code",
   "execution_count": null,
   "metadata": {
    "hidden": true
   },
   "outputs": [],
   "source": [
    "#  Then we can add more attributes\n",
    "class Car:\n",
    "    \"\"\"Automotive object\"\"\"\n",
    "    \n",
    "    wheels = 4                      # These are attributes of *every* car.\n",
    "    doors = 4\n",
    "\n",
    "    def honk(self):                   # These are methods we can call on *any* car.\n",
    "        print('Beep beep')"
   ]
  },
  {
   "cell_type": "code",
   "execution_count": null,
   "metadata": {
    "hidden": true
   },
   "outputs": [],
   "source": [
    "ferrari = civic = Car()\n",
    "ferrari.honk()\n",
    "civic.honk()"
   ]
  },
  {
   "cell_type": "code",
   "execution_count": null,
   "metadata": {
    "hidden": true
   },
   "outputs": [],
   "source": [
    "type(ferrari.wheels)"
   ]
  },
  {
   "cell_type": "code",
   "execution_count": null,
   "metadata": {
    "hidden": true
   },
   "outputs": [],
   "source": [
    "type(ferrari.honk())"
   ]
  },
  {
   "cell_type": "markdown",
   "metadata": {
    "hidden": true
   },
   "source": [
    "Wait a second, what's that `self` doing? <br/> Every method should include `self` as its first parameter, **which refers to the individual object, i.e. to the instance of the class**."
   ]
  },
  {
   "cell_type": "markdown",
   "metadata": {
    "heading_collapsed": true,
    "hidden": true
   },
   "source": [
    "### Magic Methods"
   ]
  },
  {
   "cell_type": "markdown",
   "metadata": {
    "hidden": true
   },
   "source": [
    "It is common for a class to have magic methods. These are identifiable by the \"dunder\" (i.e. **d**ouble **under**score) prefixes and suffixes, such as `__init__()`. These methods will get called **automatically** as a result of a different call, as we'll see below.\n",
    "\n",
    "For more on these \"magic methods\", see [here](https://www.geeksforgeeks.org/dunder-magic-methods-python/).\n",
    "\n",
    "When we create an instance of a class, Python invokes the __init__ to initialize the object.  Let's add __init__ to our class."
   ]
  },
  {
   "cell_type": "code",
   "execution_count": null,
   "metadata": {
    "hidden": true
   },
   "outputs": [],
   "source": [
    "#  Then we can add more attributes\n",
    "class Car:\n",
    "    \"\"\"Automotive object\"\"\"\n",
    "    \n",
    "    WHEELS = 4                      # As a convention, capital letters\n",
    "                                    # are used for constants.\n",
    "    \n",
    "    def __init__(self, doors, fwd): # By adding doors and moving to init,\n",
    "                                    # we shall now need to pass parameters when\n",
    "                                    # instantiating the object!\n",
    "        self.doors = doors\n",
    "        self.fwd = fwd\n",
    "        \n",
    "\n",
    "    def honk(self):                 # These are methods we can call on *any* car.\n",
    "        print('Beep beep')"
   ]
  },
  {
   "cell_type": "code",
   "execution_count": null,
   "metadata": {
    "hidden": true
   },
   "outputs": [],
   "source": [
    "civic = Car()"
   ]
  },
  {
   "cell_type": "code",
   "execution_count": null,
   "metadata": {
    "hidden": true
   },
   "outputs": [],
   "source": [
    "civic = Car(doors=4, fwd=True)\n",
    "\n",
    "print(civic.doors)\n",
    "print(civic.fwd)"
   ]
  },
  {
   "cell_type": "markdown",
   "metadata": {
    "hidden": true
   },
   "source": [
    "We can also pass default arguments if there is a value for a certain parameter which is very common."
   ]
  },
  {
   "cell_type": "code",
   "execution_count": null,
   "metadata": {
    "hidden": true
   },
   "outputs": [],
   "source": [
    "#  Then we can add more attributes\n",
    "class Car:\n",
    "    \"\"\"Automotive object\"\"\"\n",
    "    \n",
    "    WHEELS = 4                     \n",
    "    \n",
    "    # default arguments included now in __init__\n",
    "    def __init__(self, doors=4, fwd=False):\n",
    "        \n",
    "        self.doors = doors\n",
    "        self.fwd = fwd\n",
    "        \n",
    "\n",
    "    def honk(self):                  \n",
    "        print('Beep beep')"
   ]
  },
  {
   "cell_type": "code",
   "execution_count": null,
   "metadata": {
    "hidden": true
   },
   "outputs": [],
   "source": [
    "civic = Car()\n",
    "print(civic.doors)\n",
    "print(civic.fwd)"
   ]
  },
  {
   "cell_type": "markdown",
   "metadata": {
    "heading_collapsed": true,
    "hidden": true
   },
   "source": [
    "### Positional vs. Named arguments"
   ]
  },
  {
   "cell_type": "code",
   "execution_count": null,
   "metadata": {
    "hidden": true
   },
   "outputs": [],
   "source": [
    "# we can pass our arguments without names\n",
    "\n",
    "civic = Car(4, True)"
   ]
  },
  {
   "cell_type": "code",
   "execution_count": null,
   "metadata": {
    "hidden": true
   },
   "outputs": [],
   "source": [
    "# or with names\n",
    "\n",
    "civic = Car(doors=4, fwd=True)"
   ]
  },
  {
   "cell_type": "code",
   "execution_count": null,
   "metadata": {
    "hidden": true
   },
   "outputs": [],
   "source": [
    "# The self argument allows our methods to update our attributes.\n",
    "\n",
    "# Then we can add more attributes.\n",
    "\n",
    "class Car:\n",
    "    \"\"\"Automotive object\"\"\"\n",
    "    \n",
    "    WHEELS = 4                     \n",
    "    \n",
    "    # default arguments included now in __init__\n",
    "    def __init__(self, doors=4, fwd=False,\n",
    "                 driver_mood='peaceful'):\n",
    "        \n",
    "        self.doors = doors\n",
    "        self.fwd = fwd\n",
    "        self.driver_mood = driver_mood\n",
    "        \n",
    "\n",
    "    def honk(self):                  \n",
    "        print('Beep beep')\n",
    "        self.driver_mood = 'aggravated'"
   ]
  },
  {
   "cell_type": "code",
   "execution_count": null,
   "metadata": {
    "hidden": true
   },
   "outputs": [],
   "source": [
    "civic = Car()\n",
    "print(civic.driver_mood)\n",
    "civic.honk()\n",
    "print(civic.driver_mood)"
   ]
  },
  {
   "cell_type": "markdown",
   "metadata": {
    "heading_collapsed": true,
    "hidden": true
   },
   "source": [
    "### Exercise"
   ]
  },
  {
   "cell_type": "markdown",
   "metadata": {
    "hidden": true
   },
   "source": [
    "Let's add an attribute `moving` which indicates, with a boolean, whether the car is moving or not.\n",
    "\n",
    "Fill in the functions `stop()` and `go()` so that the attribute `moving` will reflect the car's present state of motion after the method is called.\n",
    "\n",
    "Make sure the method works by calling it, then printing the attribute."
   ]
  },
  {
   "cell_type": "code",
   "execution_count": null,
   "metadata": {
    "hidden": true
   },
   "outputs": [],
   "source": [
    "# Then we can add more attributes\n",
    "class Car:\n",
    "    \"\"\"Automotive object\"\"\"\n",
    "    \n",
    "    WHEELS = 4\n",
    "    \n",
    "    # default arguments included now in __init__\n",
    "    def __init__(self, doors=4, fwd=False, driver_mood='peaceful'):\n",
    "        \n",
    "        self.doors = doors\n",
    "        self.fwd = fwd\n",
    "        self.driver_mood = driver_mood\n",
    "        self.moving = moving\n",
    "        \n",
    "    def honk(self):                   # These are methods we can call on *any* car.\n",
    "        print('Beep beep')\n",
    "        \n",
    "    def go(self):\n",
    "        pass\n",
    "    \n",
    "    def stop(self):\n",
    "        pass"
   ]
  },
  {
   "cell_type": "code",
   "execution_count": null,
   "metadata": {
    "hidden": true
   },
   "outputs": [],
   "source": [
    "# Test your code from above\n",
    "\n",
    "civic = Car()\n",
    "print(civic.moving)\n",
    "\n",
    "civic.go()\n",
    "print(civic.moving)\n",
    "\n",
    "civic.stop()\n",
    "print(civic.moving)"
   ]
  },
  {
   "cell_type": "markdown",
   "metadata": {
    "heading_collapsed": true
   },
   "source": [
    "## Overview of inheritance"
   ]
  },
  {
   "cell_type": "markdown",
   "metadata": {
    "hidden": true
   },
   "source": [
    "We can also define classes in terms of *other* classes, in which case the new classes **inherit** the attributes and methods from the classes in terms of which they're defined.\n",
    "\n",
    "Suppose we decided we want to create an electric car class."
   ]
  },
  {
   "cell_type": "code",
   "execution_count": null,
   "metadata": {
    "hidden": true
   },
   "outputs": [],
   "source": [
    "#  Then we can add more attributes\n",
    "class ElectricCar(Car):\n",
    "    \"\"\"Automotive object\"\"\"\n",
    "    \n",
    "    pass"
   ]
  },
  {
   "cell_type": "code",
   "execution_count": null,
   "metadata": {
    "hidden": true
   },
   "outputs": [],
   "source": [
    "prius = ElectricCar()\n",
    "prius.honk()\n",
    "prius.WHEELS"
   ]
  },
  {
   "cell_type": "code",
   "execution_count": null,
   "metadata": {
    "hidden": true
   },
   "outputs": [],
   "source": [
    "#  Then we can add more attributes\n",
    "class ElectricCar(Car):\n",
    "    \"\"\"Automotive object\"\"\"\n",
    "    \n",
    "    # default arguments included now in __init__\n",
    "    def __init__(self, hybrid=False):\n",
    "        super().__init__()                   # super() refers to the parent class.\n",
    "                                             # See https://realpython.com/python-super/\n",
    "                                             # for more.\n",
    "        self.hybrid = True"
   ]
  },
  {
   "cell_type": "code",
   "execution_count": null,
   "metadata": {
    "hidden": true
   },
   "outputs": [],
   "source": [
    "#  And we can overwrite methods and parent attributes\n",
    "class ElectricCar(Car):\n",
    "    \"\"\"Automotive object\"\"\"\n",
    "    \n",
    "    # default arguments included now in __init__\n",
    "    def __init__(self, hybrid=False):\n",
    "        \n",
    "        # Prius owners are calmer than the average car owner\n",
    "        super().__init__(driver_mood='serene')\n",
    "        \n",
    "        self.hybrid = True\n",
    "        \n",
    "    # overwrite inherited methods\n",
    "    \n",
    "    def go(self):\n",
    "        \n",
    "        print('Whirrrrrr')\n",
    "        self.moving = True"
   ]
  },
  {
   "cell_type": "code",
   "execution_count": null,
   "metadata": {
    "hidden": true
   },
   "outputs": [],
   "source": [
    "prius = ElectricCar()\n",
    "print(prius.moving)"
   ]
  },
  {
   "cell_type": "code",
   "execution_count": null,
   "metadata": {
    "hidden": true
   },
   "outputs": [],
   "source": [
    "prius.go()\n",
    "prius.moving\n",
    "print(prius.driver_mood)"
   ]
  },
  {
   "cell_type": "code",
   "execution_count": null,
   "metadata": {
    "hidden": true
   },
   "outputs": [],
   "source": [
    "prius.stop()"
   ]
  },
  {
   "cell_type": "markdown",
   "metadata": {
    "heading_collapsed": true,
    "hidden": true
   },
   "source": [
    "### Another Example"
   ]
  },
  {
   "cell_type": "code",
   "execution_count": null,
   "metadata": {
    "hidden": true
   },
   "outputs": [],
   "source": [
    "class Shape:\n",
    "    def __init__(self, n):\n",
    "        self.n_sides = n\n",
    "    sides = []"
   ]
  },
  {
   "cell_type": "code",
   "execution_count": null,
   "metadata": {
    "hidden": true
   },
   "outputs": [],
   "source": [
    "class Triangle(Shape):\n",
    "    def __init__(self):\n",
    "        Shape.__init__(self, 3)\n",
    "\n",
    "    def findArea(self):\n",
    "        a, b, c = self.sides\n",
    "        # calculate the semi-perimeter\n",
    "        s = (a + b + c) / 2\n",
    "        area = (s*(s-a)*(s-b)*(s-c)) ** 0.5\n",
    "        print('The area of the triangle is %0.2f' %area)"
   ]
  },
  {
   "cell_type": "code",
   "execution_count": null,
   "metadata": {
    "hidden": true
   },
   "outputs": [],
   "source": [
    "isosc = Triangle()\n",
    "\n",
    "isosc.n_sides"
   ]
  },
  {
   "cell_type": "code",
   "execution_count": null,
   "metadata": {
    "hidden": true
   },
   "outputs": [],
   "source": [
    "# This will throw an error!\n",
    "\n",
    "isosc.findArea()"
   ]
  },
  {
   "cell_type": "code",
   "execution_count": null,
   "metadata": {
    "hidden": true
   },
   "outputs": [],
   "source": [
    "isosc.sides = [2, 2, 2]\n",
    "\n",
    "isosc.findArea()"
   ]
  },
  {
   "cell_type": "markdown",
   "metadata": {
    "heading_collapsed": true,
    "hidden": true
   },
   "source": [
    "### Exercise\n",
    "\n",
    "Use inheritance together with `StandardScaler` to create your own scaler that includes, as an attribute, a list of the largest and smallest z-scores for each attribute to which the scaler has been fitted.\n",
    "\n",
    "**Test**: After you run `fit_extra()` on the $X$ defined below and then fetch the extremes attribute, your array values should match these:\n",
    "\n",
    "| Feature 1 | Feature 2|\n",
    "| - | - |\n",
    "|-1.2068162135708724 | 1.6237142612014306| <br/>\n",
    " |-1.1298429699595565 | 1.6037759986784352 |"
   ]
  },
  {
   "cell_type": "code",
   "execution_count": null,
   "metadata": {
    "hidden": true
   },
   "outputs": [],
   "source": [
    "X, y = make_regression(n_features=2, n_samples=5, random_state=42)"
   ]
  },
  {
   "cell_type": "code",
   "execution_count": null,
   "metadata": {
    "hidden": true
   },
   "outputs": [],
   "source": [
    "class MyScaler(StandardScaler):\n",
    "    \n",
    "    def __init__(self):\n",
    "        super().__init__()\n",
    "    \n",
    "    def fit_extra(self, X):\n",
    "        \n",
    "        # ???\n",
    "        \n",
    "        self.fit(X)\n",
    "        return self"
   ]
  },
  {
   "cell_type": "code",
   "execution_count": null,
   "metadata": {
    "hidden": true
   },
   "outputs": [],
   "source": [
    "new = MyScaler()"
   ]
  },
  {
   "cell_type": "code",
   "execution_count": null,
   "metadata": {
    "hidden": true
   },
   "outputs": [],
   "source": [
    "new.fit_extra(X)"
   ]
  },
  {
   "cell_type": "code",
   "execution_count": null,
   "metadata": {
    "hidden": true
   },
   "outputs": [],
   "source": [
    "new.extremes"
   ]
  },
  {
   "cell_type": "code",
   "execution_count": null,
   "metadata": {
    "hidden": true
   },
   "outputs": [],
   "source": [
    "new.transform(X)"
   ]
  },
  {
   "cell_type": "markdown",
   "metadata": {
    "hidden": true
   },
   "source": [
    "<details><summary>\n",
    "    Answer code here\n",
    "    </summary>\n",
    "    <code>self.extremes = [((min(feat)-feat.mean()) / feat.std(),\n",
    "        (max(feat)-feat.mean()) / feat.std()) for feat in X.T]</code>\n",
    "    </details>"
   ]
  },
  {
   "cell_type": "markdown",
   "metadata": {
    "heading_collapsed": true
   },
   "source": [
    "## Important data science tools through the lens of objects: "
   ]
  },
  {
   "cell_type": "markdown",
   "metadata": {
    "hidden": true
   },
   "source": [
    "We are becomming more and more familiar with a series of methods with names such as `fit()` and `fit_transform()`.\n",
    "\n",
    "After instantiating an instance of a `StandardScaler`, `LinearRegression`, or `OneHotEncoder`, we use `fit()` to learn about the dataset and save what is learned. What is learned is saved as attributes."
   ]
  },
  {
   "cell_type": "markdown",
   "metadata": {
    "heading_collapsed": true,
    "hidden": true
   },
   "source": [
    "### `StandardScaler `\n",
    "\n",
    "The `StandardScaler` takes a series and, for each element, computes the difference between the element and the mean of the series, and then divides by the standard deviation.\n",
    "\n",
    "$\\Large z = \\frac{x - \\mu}{s}$"
   ]
  },
  {
   "cell_type": "markdown",
   "metadata": {
    "hidden": true
   },
   "source": [
    "What attributes and methods are available for a Standard Scaler object? Let's go back to the code on [GitHub](https://github.com/scikit-learn/scikit-learn/blob/master/sklearn/preprocessing/_data.py). In many typical cases the `.fit()` method relies on the [`_incremental_mean_and_var()` function](https://github.com/scikit-learn/scikit-learn/blob/main/sklearn/utils/extmath.py/).\n",
    "\n",
    "#### Attributes\n",
    "\n",
    "##### `.scale_`"
   ]
  },
  {
   "cell_type": "code",
   "execution_count": null,
   "metadata": {
    "hidden": true
   },
   "outputs": [],
   "source": [
    "# Instantiate a standard scaler object\n",
    "greg = StandardScaler()\n",
    "\n",
    "# We can instantiate as many scaler objects as we want\n",
    "max_ = StandardScaler()"
   ]
  },
  {
   "cell_type": "code",
   "execution_count": null,
   "metadata": {
    "hidden": true
   },
   "outputs": [],
   "source": [
    "greg == max_"
   ]
  },
  {
   "cell_type": "code",
   "execution_count": null,
   "metadata": {
    "hidden": true
   },
   "outputs": [],
   "source": [
    "# Let's create a dataframe with two series\n",
    "\n",
    "np.random.seed(42)\n",
    "series_1 = np.random.normal(3, 1, 1000)\n",
    "\n",
    "print(series_1.mean())\n",
    "print(series_1.std())"
   ]
  },
  {
   "cell_type": "markdown",
   "metadata": {
    "hidden": true
   },
   "source": [
    "When we fit the `StandardScaler`, it studies the object passed to it, and saves what is learned in its instance attributes."
   ]
  },
  {
   "cell_type": "code",
   "execution_count": null,
   "metadata": {
    "hidden": true
   },
   "outputs": [],
   "source": [
    "greg.fit(series_1.reshape(-1,1))\n",
    "\n",
    "# standard deviation is saved in the attribute \"scale_\"\n",
    "greg.scale_"
   ]
  },
  {
   "cell_type": "code",
   "execution_count": null,
   "metadata": {
    "hidden": true
   },
   "outputs": [],
   "source": [
    "# mean is saved into the attribute \"mean_\"\n",
    "greg.mean_"
   ]
  },
  {
   "cell_type": "code",
   "execution_count": null,
   "metadata": {
    "hidden": true
   },
   "outputs": [],
   "source": [
    "# Knowledge Check\n",
    "\n",
    "# What value should I pass into the `transform()` method to\n",
    "# get a return of 0?\n",
    "\n",
    "greg.transform([])"
   ]
  },
  {
   "cell_type": "code",
   "execution_count": null,
   "metadata": {
    "hidden": true
   },
   "outputs": [],
   "source": [
    "# We can then use these attributes to transform objects\n",
    "\n",
    "np.random.seed(42)\n",
    "random_numbers = np.random.normal(3, 1, 2)\n",
    "random_numbers"
   ]
  },
  {
   "cell_type": "code",
   "execution_count": null,
   "metadata": {
    "hidden": true
   },
   "outputs": [],
   "source": [
    "greg.transform(random_numbers.reshape(-1, 1))"
   ]
  },
  {
   "cell_type": "code",
   "execution_count": null,
   "metadata": {
    "hidden": true
   },
   "outputs": [],
   "source": [
    "# We can also use a scaler on a DataFrame\n",
    "\n",
    "series_1 = np.random.normal(3, 1, 1000)\n",
    "series_2 = np.random.uniform(0, 100, 1000)\n",
    "df_2 = pd.DataFrame([series_1, series_2]).T\n",
    "ss_df = StandardScaler()\n",
    "ss_df.fit_transform(df_2)"
   ]
  },
  {
   "cell_type": "code",
   "execution_count": null,
   "metadata": {
    "hidden": true
   },
   "outputs": [],
   "source": [
    "ss_df.transform([[5, 50]])"
   ]
  },
  {
   "cell_type": "markdown",
   "metadata": {
    "heading_collapsed": true,
    "hidden": true
   },
   "source": [
    "### Task: One-hot Encoder"
   ]
  },
  {
   "cell_type": "code",
   "execution_count": null,
   "metadata": {
    "hidden": true,
    "scrolled": true
   },
   "outputs": [],
   "source": [
    "np.random.seed(42)\n",
    "# Let's create a DataFrame that records a total number of orders\n",
    "# by day of the week: \n",
    "\n",
    "days = np.random.choice(['m', 't', 'w', 'th', 'f', 's', 'su'], 1000)\n",
    "orders = np.random.randint(0, 1000, 1000)\n",
    "\n",
    "df = pd.DataFrame([days, orders]).T\n",
    "df.columns = ['days', 'orders']\n",
    "df.head()"
   ]
  },
  {
   "cell_type": "code",
   "execution_count": null,
   "metadata": {
    "hidden": true
   },
   "outputs": [],
   "source": [
    "df.shape"
   ]
  },
  {
   "cell_type": "markdown",
   "metadata": {
    "hidden": true
   },
   "source": [
    "Let's interact with an important parameter we can pass when instantiating the `OneHotEncoder` object: `drop`.  \n",
    "\n",
    "By dropping a column, we avoid the [dummy variable trap](https://en.wikipedia.org/wiki/Dummy_variable_(statistics)).  \n",
    "\n",
    "By passing `drop=True`, the encoder will drop the first category it happens upon.\n",
    "\n",
    "If we want to drop a particular column, we can also pass that in."
   ]
  },
  {
   "cell_type": "code",
   "execution_count": null,
   "metadata": {
    "hidden": true
   },
   "outputs": [],
   "source": [
    "# Instantiate a OneHotEncoder object\n",
    "\n",
    "ohe = OneHotEncoder(drop=['m'])"
   ]
  },
  {
   "cell_type": "code",
   "execution_count": null,
   "metadata": {
    "hidden": true
   },
   "outputs": [],
   "source": [
    "ohe_matrix = ohe.fit_transform(df[['days']])"
   ]
  },
  {
   "cell_type": "code",
   "execution_count": null,
   "metadata": {
    "hidden": true
   },
   "outputs": [],
   "source": [
    "ohe_matrix"
   ]
  },
  {
   "cell_type": "code",
   "execution_count": null,
   "metadata": {
    "hidden": true
   },
   "outputs": [],
   "source": [
    "# Look at __dict__ and checkout drop_idx_.\n",
    "# Did it do what you wanted it to do?\n",
    "\n",
    "ohe.__dict__['drop_idx_']"
   ]
  },
  {
   "cell_type": "code",
   "execution_count": null,
   "metadata": {
    "hidden": true
   },
   "outputs": [],
   "source": [
    "# check out the categories_ attribute\n",
    "ohe.categories_"
   ]
  },
  {
   "cell_type": "code",
   "execution_count": null,
   "metadata": {
    "hidden": true
   },
   "outputs": [],
   "source": [
    "# Check out the object itself\n",
    "ohe_matrix"
   ]
  },
  {
   "cell_type": "markdown",
   "metadata": {
    "hidden": true
   },
   "source": [
    "It is a sparse matrix, which is a matrix that is composed mostly of zeros"
   ]
  },
  {
   "cell_type": "code",
   "execution_count": null,
   "metadata": {
    "hidden": true
   },
   "outputs": [],
   "source": [
    "# We can convert it to an array like so\n",
    "oh_df = pd.DataFrame.sparse.from_spmatrix(ohe_matrix)"
   ]
  },
  {
   "cell_type": "code",
   "execution_count": null,
   "metadata": {
    "hidden": true
   },
   "outputs": [],
   "source": [
    "# Now, using the categories_ attribute, set the column names\n",
    "# to the correct days of the week.\n",
    "\n",
    "ohe_columns = list(ohe.categories_[0])\n",
    "ohe_columns.pop(int(ohe.drop_idx_))\n",
    "oh_df.columns = ohe_columns\n",
    "oh_df.head()"
   ]
  },
  {
   "cell_type": "code",
   "execution_count": null,
   "metadata": {
    "hidden": true
   },
   "outputs": [],
   "source": [
    "# Add the onehotencoded columns to the original df, and drop the days column\n",
    "\n",
    "df = df.join(oh_df).drop('days', axis=1)\n",
    "df.head()"
   ]
  }
 ],
 "metadata": {
  "kernelspec": {
   "display_name": "Python 3",
   "language": "python",
   "name": "python3"
  },
  "language_info": {
   "codemirror_mode": {
    "name": "ipython",
    "version": 3
   },
   "file_extension": ".py",
   "mimetype": "text/x-python",
   "name": "python",
   "nbconvert_exporter": "python",
   "pygments_lexer": "ipython3",
   "version": "3.8.5"
  },
  "toc": {
   "base_numbering": 1,
   "nav_menu": {},
   "number_sections": true,
   "sideBar": false,
   "skip_h1_title": true,
   "title_cell": "Table of Contents",
   "title_sidebar": "TOC",
   "toc_cell": true,
   "toc_position": {},
   "toc_section_display": false,
   "toc_window_display": false
  }
 },
 "nbformat": 4,
 "nbformat_minor": 4
}
