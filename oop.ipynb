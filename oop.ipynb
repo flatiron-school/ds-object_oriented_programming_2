{
 "cells": [
  {
   "cell_type": "markdown",
   "metadata": {
    "toc": true
   },
   "source": [
    "<h1>Table of Contents<span class=\"tocSkip\"></span></h1>\n",
    "<div class=\"toc\"><ul class=\"toc-item\"><li><span><a href=\"#Agenda\" data-toc-modified-id=\"Agenda-1\"><span class=\"toc-item-num\">1&nbsp;&nbsp;</span>Agenda</a></span></li><li><span><a href=\"#Let's-Review\" data-toc-modified-id=\"Let's-Review-2\"><span class=\"toc-item-num\">2&nbsp;&nbsp;</span>Let's Review</a></span><ul class=\"toc-item\"><li><span><a href=\"#Defining-a-Class\" data-toc-modified-id=\"Defining-a-Class-2.1\"><span class=\"toc-item-num\">2.1&nbsp;&nbsp;</span>Defining a Class</a></span></li><li><span><a href=\"#Instantiating-Objects\" data-toc-modified-id=\"Instantiating-Objects-2.2\"><span class=\"toc-item-num\">2.2&nbsp;&nbsp;</span>Instantiating Objects</a></span></li><li><span><a href=\"#Attibutes--of-an-Object\" data-toc-modified-id=\"Attibutes--of-an-Object-2.3\"><span class=\"toc-item-num\">2.3&nbsp;&nbsp;</span>Attibutes  of an Object</a></span><ul class=\"toc-item\"><li><span><a href=\"#Making-Improvements\" data-toc-modified-id=\"Making-Improvements-2.3.1\"><span class=\"toc-item-num\">2.3.1&nbsp;&nbsp;</span>Making Improvements</a></span><ul class=\"toc-item\"><li><span><a href=\"#🧠-Knowledge-Check\" data-toc-modified-id=\"🧠-Knowledge-Check-2.3.1.1\"><span class=\"toc-item-num\">2.3.1.1&nbsp;&nbsp;</span>🧠 Knowledge Check</a></span></li></ul></li><li><span><a href=\"#Robot-Override!!!\" data-toc-modified-id=\"Robot-Override!!!-2.3.2\"><span class=\"toc-item-num\">2.3.2&nbsp;&nbsp;</span>Robot Override!!!</a></span></li></ul></li><li><span><a href=\"#How-is-This-Useful?\" data-toc-modified-id=\"How-is-This-Useful?-2.4\"><span class=\"toc-item-num\">2.4&nbsp;&nbsp;</span>How is This Useful?</a></span></li></ul></li><li><span><a href=\"#Methods:-Who-me?-Knowing-yourSELF\" data-toc-modified-id=\"Methods:-Who-me?-Knowing-yourSELF-3\"><span class=\"toc-item-num\">3&nbsp;&nbsp;</span>Methods: Who me? Knowing yourSELF</a></span><ul class=\"toc-item\"><li><span><a href=\"#Magic-Methods\" data-toc-modified-id=\"Magic-Methods-3.1\"><span class=\"toc-item-num\">3.1&nbsp;&nbsp;</span>Magic Methods</a></span></li><li><span><a href=\"#*args-and-**kwargs\" data-toc-modified-id=\"*args-and-**kwargs-3.2\"><span class=\"toc-item-num\">3.2&nbsp;&nbsp;</span><code>*args</code> and <code>**kwargs</code></a></span><ul class=\"toc-item\"><li><span><a href=\"#*-Operator:-*args\" data-toc-modified-id=\"*-Operator:-*args-3.2.1\"><span class=\"toc-item-num\">3.2.1&nbsp;&nbsp;</span><code>*</code> Operator: <code>*args</code></a></span></li><li><span><a href=\"#**-Operator:-*kwargs\" data-toc-modified-id=\"**-Operator:-*kwargs-3.2.2\"><span class=\"toc-item-num\">3.2.2&nbsp;&nbsp;</span><code>**</code> Operator: <code>*kwargs</code></a></span></li></ul></li><li><span><a href=\"#Exercise\" data-toc-modified-id=\"Exercise-3.3\"><span class=\"toc-item-num\">3.3&nbsp;&nbsp;</span>Exercise</a></span></li></ul></li><li><span><a href=\"#Overview-of-inheritance\" data-toc-modified-id=\"Overview-of-inheritance-4\"><span class=\"toc-item-num\">4&nbsp;&nbsp;</span>Overview of inheritance</a></span><ul class=\"toc-item\"><li><span><a href=\"#Another-Example\" data-toc-modified-id=\"Another-Example-4.1\"><span class=\"toc-item-num\">4.1&nbsp;&nbsp;</span>Another Example</a></span></li><li><span><a href=\"#Exercise\" data-toc-modified-id=\"Exercise-4.2\"><span class=\"toc-item-num\">4.2&nbsp;&nbsp;</span>Exercise</a></span></li></ul></li><li><span><a href=\"#Important-data-science-tools-through-the-lens-of-objects:\" data-toc-modified-id=\"Important-data-science-tools-through-the-lens-of-objects:-5\"><span class=\"toc-item-num\">5&nbsp;&nbsp;</span>Important data science tools through the lens of objects:</a></span><ul class=\"toc-item\"><li><span><a href=\"#StandardScaler\" data-toc-modified-id=\"StandardScaler-5.1\"><span class=\"toc-item-num\">5.1&nbsp;&nbsp;</span><code>StandardScaler</code></a></span><ul class=\"toc-item\"><li><span><a href=\"#Attributes\" data-toc-modified-id=\"Attributes-5.1.1\"><span class=\"toc-item-num\">5.1.1&nbsp;&nbsp;</span>Attributes</a></span><ul class=\"toc-item\"><li><span><a href=\"#.scale_\" data-toc-modified-id=\".scale_-5.1.1.1\"><span class=\"toc-item-num\">5.1.1.1&nbsp;&nbsp;</span><code>.scale_</code></a></span></li></ul></li></ul></li><li><span><a href=\"#Task:-One-hot-Encoder\" data-toc-modified-id=\"Task:-One-hot-Encoder-5.2\"><span class=\"toc-item-num\">5.2&nbsp;&nbsp;</span>Task: One-hot Encoder</a></span></li></ul></li><li><span><a href=\"#Level-Up\" data-toc-modified-id=\"Level-Up-6\"><span class=\"toc-item-num\">6&nbsp;&nbsp;</span>Level Up</a></span><ul class=\"toc-item\"><li><span><a href=\"#Setters,-Getters,-and-Using-property\" data-toc-modified-id=\"Setters,-Getters,-and-Using-property-6.1\"><span class=\"toc-item-num\">6.1&nbsp;&nbsp;</span>Setters, Getters, and Using <code>property</code></a></span></li></ul></li></ul></div>"
   ]
  },
  {
   "cell_type": "markdown",
   "metadata": {},
   "source": [
    "![fvo](https://cdn.educba.com/academy/wp-content/uploads/2018/07/Functional-Programming-vs-OOP-1.png)"
   ]
  },
  {
   "cell_type": "markdown",
   "metadata": {},
   "source": [
    "# Object-Oriented Programming"
   ]
  },
  {
   "cell_type": "code",
   "execution_count": null,
   "metadata": {},
   "outputs": [],
   "source": [
    "from sklearn.preprocessing import StandardScaler\n",
    "import numpy as np\n",
    "import pandas as pd\n",
    "from sklearn.preprocessing import OneHotEncoder\n",
    "from sklearn.datasets import make_regression"
   ]
  },
  {
   "cell_type": "markdown",
   "metadata": {
    "heading_collapsed": true
   },
   "source": [
    "## Agenda"
   ]
  },
  {
   "cell_type": "markdown",
   "metadata": {
    "hidden": true
   },
   "source": [
    "SWBAT:\n",
    "\n",
    "- describe the relationship of classes and objects, and to code classes\n",
    "- explain the notion of inheritance\n",
    "- describe how the object structure is used in `sklearn` tools like `StandardScaler` and `OneHotEncoder`"
   ]
  },
  {
   "cell_type": "markdown",
   "metadata": {
    "heading_collapsed": true
   },
   "source": [
    "## Let's Review"
   ]
  },
  {
   "cell_type": "markdown",
   "metadata": {
    "heading_collapsed": true,
    "hidden": true
   },
   "source": [
    "### Defining a Class"
   ]
  },
  {
   "cell_type": "markdown",
   "metadata": {
    "hidden": true
   },
   "source": [
    "Recall every class is like a **blueprint** or **mold**"
   ]
  },
  {
   "cell_type": "markdown",
   "metadata": {
    "hidden": true
   },
   "source": [
    "![blueprint](img/blueprint.jpeg)"
   ]
  },
  {
   "cell_type": "markdown",
   "metadata": {
    "hidden": true
   },
   "source": [
    "We can define **new** classes of objects altogether by using the keyword `class`:"
   ]
  },
  {
   "cell_type": "code",
   "execution_count": null,
   "metadata": {
    "hidden": true
   },
   "outputs": [],
   "source": [
    "class Robot():\n",
    "  # Essentially a blank template since we never defined any attributes\n",
    "  pass"
   ]
  },
  {
   "cell_type": "markdown",
   "metadata": {
    "heading_collapsed": true,
    "hidden": true
   },
   "source": [
    "### Instantiating Objects"
   ]
  },
  {
   "cell_type": "markdown",
   "metadata": {
    "hidden": true
   },
   "source": [
    "We **instantiate** an **object** using the class."
   ]
  },
  {
   "cell_type": "code",
   "execution_count": null,
   "metadata": {
    "hidden": true
   },
   "outputs": [],
   "source": [
    "# Give it life!\n",
    "my_robot = Robot()"
   ]
  },
  {
   "cell_type": "markdown",
   "metadata": {
    "heading_collapsed": true,
    "hidden": true
   },
   "source": [
    "### Attibutes  of an Object "
   ]
  },
  {
   "cell_type": "markdown",
   "metadata": {
    "hidden": true
   },
   "source": [
    "We gave it **attributes** using dot notation"
   ]
  },
  {
   "cell_type": "code",
   "execution_count": null,
   "metadata": {
    "hidden": true
   },
   "outputs": [],
   "source": [
    "my_robot.name = 'Wall-E'\n",
    "my_robot.height = 100  # cm"
   ]
  },
  {
   "cell_type": "code",
   "execution_count": null,
   "metadata": {
    "hidden": true
   },
   "outputs": [],
   "source": [
    "# It lives!!!!!\n",
    "print(my_robot.name, my_robot.height)"
   ]
  },
  {
   "cell_type": "code",
   "execution_count": null,
   "metadata": {
    "hidden": true
   },
   "outputs": [],
   "source": [
    "# Here's another bot!\n",
    "your_robot = Robot()\n",
    "your_robot.name = 'Rob'\n",
    "your_robot.height = 200 # cm"
   ]
  },
  {
   "cell_type": "code",
   "execution_count": null,
   "metadata": {
    "hidden": true
   },
   "outputs": [],
   "source": [
    "# Uh oh, we didn't give it this attribute\n",
    "print(my_robot.purpose)"
   ]
  },
  {
   "cell_type": "markdown",
   "metadata": {
    "heading_collapsed": true,
    "hidden": true
   },
   "source": [
    "#### Making Improvements"
   ]
  },
  {
   "cell_type": "markdown",
   "metadata": {
    "hidden": true
   },
   "source": [
    "It'd be great to give some default parameters that instances should have"
   ]
  },
  {
   "cell_type": "code",
   "execution_count": null,
   "metadata": {
    "hidden": true
   },
   "outputs": [],
   "source": [
    "class Robot():\n",
    "    # All robots should love humans\n",
    "    purpose = 'To love humans'\n",
    "    name = None"
   ]
  },
  {
   "cell_type": "code",
   "execution_count": null,
   "metadata": {
    "hidden": true
   },
   "outputs": [],
   "source": [
    "# Give them life!\n",
    "my_robot = Robot()\n",
    "my_robot.name = 'Wall-E 2.0'\n",
    "my_robot.height = 100  # cm\n",
    "\n",
    "your_robot = Robot()\n",
    "your_robot.height = 200 # cm"
   ]
  },
  {
   "cell_type": "code",
   "execution_count": null,
   "metadata": {
    "hidden": true
   },
   "outputs": [],
   "source": [
    "print('What is your name?')\n",
    "print(my_robot.name)\n",
    "print()\n",
    "print('What is your purpose?')\n",
    "print(my_robot.purpose)"
   ]
  },
  {
   "cell_type": "markdown",
   "metadata": {
    "heading_collapsed": true,
    "hidden": true
   },
   "source": [
    "##### 🧠 Knowledge Check"
   ]
  },
  {
   "cell_type": "markdown",
   "metadata": {
    "hidden": true
   },
   "source": [
    "What should the code below print?"
   ]
  },
  {
   "cell_type": "code",
   "execution_count": null,
   "metadata": {
    "hidden": true
   },
   "outputs": [],
   "source": [
    "print(your_robot.name)\n",
    "print(your_robot.purpose)\n",
    "print(your_robot.height)"
   ]
  },
  {
   "cell_type": "markdown",
   "metadata": {
    "heading_collapsed": true,
    "hidden": true
   },
   "source": [
    "#### Robot Override!!!"
   ]
  },
  {
   "cell_type": "code",
   "execution_count": null,
   "metadata": {
    "hidden": true
   },
   "outputs": [],
   "source": [
    "# Rogue robot!!!\n",
    "evil_robot = Robot()\n",
    "evil_robot.name = 'Bender'\n",
    "evil_robot.purpose = 'TO KILL ALL HUMANS!!!'"
   ]
  },
  {
   "cell_type": "code",
   "execution_count": null,
   "metadata": {
    "hidden": true
   },
   "outputs": [],
   "source": [
    "print('What is your name and your purpose?\\n')\n",
    "print(f'My name is {evil_robot.name} and my purpose is {evil_robot.purpose}')"
   ]
  },
  {
   "cell_type": "markdown",
   "metadata": {
    "heading_collapsed": true,
    "hidden": true
   },
   "source": [
    "### How is This Useful?"
   ]
  },
  {
   "cell_type": "markdown",
   "metadata": {
    "hidden": true
   },
   "source": [
    "Abstraction!!"
   ]
  },
  {
   "cell_type": "code",
   "execution_count": null,
   "metadata": {
    "hidden": true
   },
   "outputs": [],
   "source": [
    "my_robot = Robot()\n",
    "my_robot.name = 'Wall-E'\n",
    "my_robot.height = 100  # cm\n",
    "\n",
    "your_robot = Robot()\n",
    "your_robot.name = 'Rob'\n",
    "your_robot.height = 200 # cm"
   ]
  },
  {
   "cell_type": "code",
   "execution_count": null,
   "metadata": {
    "hidden": true
   },
   "outputs": [],
   "source": [
    "# Who's taller?\n",
    "# Tie defaults to my bot 😁\n",
    "if my_robot.height >= your_robot.height:\n",
    "    tall_bot = my_robot\n",
    "else:\n",
    "    tall_bot = your_robot\n",
    "\n",
    "    \n",
    "# Alternative code\n",
    "# tall_bot = my_robot if my_robot.height >= your_robot.height else your_robot"
   ]
  },
  {
   "cell_type": "code",
   "execution_count": null,
   "metadata": {
    "hidden": true
   },
   "outputs": [],
   "source": [
    "print(f'{tall_bot.name} is the tallest bot at {tall_bot.height} cm')"
   ]
  },
  {
   "cell_type": "markdown",
   "metadata": {
    "heading_collapsed": true
   },
   "source": [
    "## Methods: Who me? Knowing yourSELF"
   ]
  },
  {
   "cell_type": "markdown",
   "metadata": {
    "hidden": true
   },
   "source": [
    "We can also write **methods** that are associated with each class.  \n",
    "A method is just a function associated with a class."
   ]
  },
  {
   "cell_type": "code",
   "execution_count": null,
   "metadata": {
    "hidden": true
   },
   "outputs": [],
   "source": [
    "class Robot():\n",
    "    '''(Look a docstring! Some info on how this class works.)'''\n",
    "    \n",
    "    ## These variables will belong to the Object\n",
    "    name = None\n",
    "    material = 'Metal'\n",
    "    is_electric = True\n",
    "    num_of_arms = 2\n",
    "\n",
    "    ## These methods belong to the Object (its \"self\")\n",
    "    \n",
    "    # Method that takes some inputs and returns like a normal function\n",
    "    def add_numbers(self, num0, num1):\n",
    "        total = num0 + num1\n",
    "        return total\n",
    "\n",
    "    # No parameters; uses attributes of the Object\n",
    "    def speak(self):\n",
    "        print(f'I am {self.name}!')\n",
    "        \n",
    "    # Modifies the Object\n",
    "    def change_name(self, new_name):\n",
    "        self.name =  new_name"
   ]
  },
  {
   "cell_type": "code",
   "execution_count": null,
   "metadata": {
    "hidden": true
   },
   "outputs": [],
   "source": [
    "walle = Robot()"
   ]
  },
  {
   "cell_type": "code",
   "execution_count": null,
   "metadata": {
    "hidden": true
   },
   "outputs": [],
   "source": [
    "print(f'''\n",
    "name: {walle.name}\n",
    "material: {walle.material}\n",
    "is_electric: {walle.is_electric}\n",
    "num_of_arms: {walle.num_of_arms}\n",
    "''')"
   ]
  },
  {
   "cell_type": "code",
   "execution_count": null,
   "metadata": {
    "hidden": true
   },
   "outputs": [],
   "source": [
    "# Look at those fancy methods the object has\n",
    "walle.speak()\n",
    "walle.add_numbers(100,1)"
   ]
  },
  {
   "cell_type": "code",
   "execution_count": null,
   "metadata": {
    "hidden": true
   },
   "outputs": [],
   "source": [
    "# Let's give this robot an identity\n",
    "walle.change_name(\"Wall-e\")\n",
    "walle.speak()"
   ]
  },
  {
   "cell_type": "markdown",
   "metadata": {
    "hidden": true
   },
   "source": [
    "> tl;dr: `self` is really a reference to the instantiated object"
   ]
  },
  {
   "cell_type": "markdown",
   "metadata": {
    "heading_collapsed": true,
    "hidden": true
   },
   "source": [
    "### Magic Methods"
   ]
  },
  {
   "cell_type": "markdown",
   "metadata": {
    "hidden": true
   },
   "source": [
    "It is common for a class to have magic methods. These are identifiable by the \"dunder\" (i.e. **d**ouble **under**score) prefixes and suffixes, such as `__init__()`. These methods will get called **automatically** as a result of a different call, as we'll see below.\n",
    "\n",
    "For more on these \"magic methods\", see [here](https://docs.python.org/3/reference/datamodel.html#special-method-names).\n",
    "\n",
    "When we create an instance of a class, Python invokes the __init__ to initialize the object.  Let's add __init__ to our class."
   ]
  },
  {
   "cell_type": "code",
   "execution_count": null,
   "metadata": {
    "hidden": true
   },
   "outputs": [],
   "source": [
    "class Robot():\n",
    "    '''New and improved robot!'''\n",
    "    # We can still define attributes here\n",
    "    purpose = 'To love humans'\n",
    "    \n",
    "    # We'd like to start off with some initial attributes\n",
    "    def __init__(self, first_name='Generic', last_name=''):\n",
    "        # Clean the names of extra spaces at beginning & end\n",
    "        first_name = first_name.strip()\n",
    "        last_name = last_name.strip()    \n",
    "        # Setting attributes\n",
    "        self._first_name = first_name\n",
    "        self._last_name = last_name\n",
    "        # Combine first and last names and remove any extra spacing\n",
    "        self.name = ' '.join([first_name,last_name]).strip()\n",
    "\n",
    "    # We can define how it's string representation!\n",
    "    def __str__(self):\n",
    "        obj_str_rep = f'Robot: \"{self.name}\"'\n",
    "        return obj_str_rep\n"
   ]
  },
  {
   "cell_type": "code",
   "execution_count": null,
   "metadata": {
    "hidden": true
   },
   "outputs": [],
   "source": [
    "walle = Robot('Wall-E')\n",
    "bender = Robot('Bender', 'Rodriguez')"
   ]
  },
  {
   "cell_type": "code",
   "execution_count": null,
   "metadata": {
    "hidden": true
   },
   "outputs": [],
   "source": [
    "# Now we can see the string representation!\n",
    "print(walle)\n",
    "print(bender)"
   ]
  },
  {
   "cell_type": "code",
   "execution_count": null,
   "metadata": {
    "hidden": true
   },
   "outputs": [],
   "source": [
    "print(f'This is `{str(walle)}`')"
   ]
  },
  {
   "cell_type": "markdown",
   "metadata": {
    "hidden": true
   },
   "source": [
    "> **ASIDE**\n",
    ">\n",
    "> You might notice that if you change the `first_name` or `last_name` property of the object, the `name` property won't update as might be desired.\n",
    "> We can actually get this functionality using _setters_ and _getters_ in Python. This is getting a bit deeper into OOP so we leave this a ***[Level Up](#S#Setters,-Getters,-and-Using-property)*** discussion towards the end of the notebook."
   ]
  },
  {
   "cell_type": "markdown",
   "metadata": {
    "heading_collapsed": true,
    "hidden": true
   },
   "source": [
    "### `*args` and `**kwargs`"
   ]
  },
  {
   "cell_type": "markdown",
   "metadata": {
    "hidden": true
   },
   "source": [
    "There are times when we want to have more flexibility in how we pass parameters to our functions/methods.\n",
    "\n",
    "There's a whole lot we can discuss on this (checkout the [argument](https://docs.python.org/3/glossary.html#term-argument) & [parameter](https://docs.python.org/3/glossary.html#term-parameter) documentation for more details), but specifically we'll briefly discuss using `*args` and `**kwargs` in our functions/methods"
   ]
  },
  {
   "cell_type": "markdown",
   "metadata": {
    "hidden": true
   },
   "source": [
    "> **NOTE**\n",
    ">\n",
    "> `*args` and `**kwargs` can be used in methods (functions associated with classes & objects) or in plain functions"
   ]
  },
  {
   "cell_type": "markdown",
   "metadata": {
    "heading_collapsed": true,
    "hidden": true
   },
   "source": [
    "#### `*` Operator: `*args`"
   ]
  },
  {
   "cell_type": "markdown",
   "metadata": {
    "hidden": true
   },
   "source": [
    "The single-asterisk operator `*` can be used to unpack iterables."
   ]
  },
  {
   "cell_type": "markdown",
   "metadata": {
    "hidden": true
   },
   "source": [
    "Suppose I am building a function that will return the product of inputted numbers. I might start with this:"
   ]
  },
  {
   "cell_type": "code",
   "execution_count": null,
   "metadata": {
    "hidden": true
   },
   "outputs": [],
   "source": [
    "def product(factor1, factor2):\n",
    "    out = factor1 * factor2\n",
    "    return out"
   ]
  },
  {
   "cell_type": "markdown",
   "metadata": {
    "hidden": true
   },
   "source": [
    "But if I want the product of *three* numbers this function won't do:\n",
    "\n",
    "```python\n",
    "product(3, 5, 6)\n",
    "```"
   ]
  },
  {
   "cell_type": "markdown",
   "metadata": {
    "hidden": true
   },
   "source": [
    "A nice way around this problem is to use the `*` operator."
   ]
  },
  {
   "cell_type": "code",
   "execution_count": null,
   "metadata": {
    "hidden": true
   },
   "outputs": [],
   "source": [
    "def product_better(*factors):\n",
    "    out = 1\n",
    "    for f in factors:\n",
    "        out *= f\n",
    "    return out"
   ]
  },
  {
   "cell_type": "code",
   "execution_count": null,
   "metadata": {
    "hidden": true
   },
   "outputs": [],
   "source": [
    "product_better(2)"
   ]
  },
  {
   "cell_type": "code",
   "execution_count": null,
   "metadata": {
    "hidden": true
   },
   "outputs": [],
   "source": [
    "product_better(2, 4)"
   ]
  },
  {
   "cell_type": "code",
   "execution_count": null,
   "metadata": {
    "hidden": true
   },
   "outputs": [],
   "source": [
    "product_better(2, 4, 8, 16, 32)"
   ]
  },
  {
   "cell_type": "markdown",
   "metadata": {
    "hidden": true
   },
   "source": [
    "We can also use this notation to unpack an iterable to a function and will use each value as a _positional parameter_."
   ]
  },
  {
   "cell_type": "code",
   "execution_count": null,
   "metadata": {
    "hidden": true
   },
   "outputs": [],
   "source": [
    "my_list_of_numbers = [1,2,3,4,5]\n",
    "\n",
    "print(*my_list_of_numbers)\n",
    "product_better(*my_list_of_numbers)"
   ]
  },
  {
   "cell_type": "code",
   "execution_count": null,
   "metadata": {
    "hidden": true
   },
   "outputs": [],
   "source": [
    "# Works for other iterables too!\n",
    "my_range = range(2,10,2)\n",
    "\n",
    "print(*my_range)\n",
    "product_better(*a)"
   ]
  },
  {
   "cell_type": "markdown",
   "metadata": {
    "hidden": true
   },
   "source": [
    "> **Note on Notation**\n",
    ">\n",
    "> Though we can use this any parameter name with the `*` operator, convention is to use `*args` (short for \"arguments\")."
   ]
  },
  {
   "cell_type": "markdown",
   "metadata": {
    "heading_collapsed": true,
    "hidden": true
   },
   "source": [
    "#### `**` Operator: `*kwargs`"
   ]
  },
  {
   "cell_type": "markdown",
   "metadata": {
    "hidden": true
   },
   "source": [
    "The double-asterisk operator  `∗∗`  is used for _keyword arguments_, i.e. _named arguments_."
   ]
  },
  {
   "cell_type": "code",
   "execution_count": null,
   "metadata": {
    "hidden": true
   },
   "outputs": [],
   "source": [
    "def hello_to_the_office(**kwargs):\n",
    "    hello_strs = []\n",
    "    # Iterate through each item of kwargs (a dictionary!)\n",
    "    for position_title, name in kwargs.items():\n",
    "        # Note that the keys are going to be treated as a string\n",
    "        hello_strs.append(f'Hi {name}, the {position_title.title()}!')\n",
    "    \n",
    "    print('\\n'.join(hello_strs))"
   ]
  },
  {
   "cell_type": "code",
   "execution_count": null,
   "metadata": {
    "hidden": true
   },
   "outputs": [],
   "source": [
    "hello_to_the_office(\n",
    "    regional_manager='Micael',\n",
    "    office_administrato='Pam',\n",
    "    regional_co_manager='Jim',\n",
    "    asssistant_to_the_regional_manager='Dwight'\n",
    ")"
   ]
  },
  {
   "cell_type": "markdown",
   "metadata": {
    "hidden": true
   },
   "source": [
    "Here's a more complicated function that also uses `**kwargs`"
   ]
  },
  {
   "cell_type": "code",
   "execution_count": null,
   "metadata": {
    "hidden": true
   },
   "outputs": [],
   "source": [
    "def report(to_print=True, **kwargs):\n",
    "    \n",
    "    # Effectively, kwargs is a dictionary\n",
    "    the_keys = ';'.join(kwargs.keys())\n",
    "    the_values = kwargs.values()\n",
    "    \n",
    "    # Note the safe way of getting a the values\n",
    "    if kwargs.get('is_bot'):\n",
    "        print('ROBOT ALERT!!')\n",
    "    \n",
    "    if to_print:\n",
    "        print(f'''\n",
    "            The Keys:\n",
    "                {the_keys}\n",
    "            The Values:\n",
    "                {the_values}\n",
    "        ''')\n",
    "    else:\n",
    "        return the_keys, the_values"
   ]
  },
  {
   "cell_type": "code",
   "execution_count": null,
   "metadata": {
    "hidden": true
   },
   "outputs": [],
   "source": [
    "# Note that these arguments were never defined in the report() function\n",
    "report(name='Fry', birth_year=1985)"
   ]
  },
  {
   "cell_type": "code",
   "execution_count": null,
   "metadata": {
    "hidden": true
   },
   "outputs": [],
   "source": [
    "report(name='Bender', titanium_level=0.4, birth_year=2996, is_bot=True)"
   ]
  },
  {
   "cell_type": "markdown",
   "metadata": {
    "hidden": true
   },
   "source": [
    "We can also use the `**` operator to unpack a dictionary to a function as _named parameters_."
   ]
  },
  {
   "cell_type": "code",
   "execution_count": null,
   "metadata": {
    "hidden": true
   },
   "outputs": [],
   "source": [
    "def named_paramter_function(param0, param1, default=10):\n",
    "    return (param0, param1, default)"
   ]
  },
  {
   "cell_type": "code",
   "execution_count": null,
   "metadata": {
    "hidden": true
   },
   "outputs": [],
   "source": [
    "my_params = {'param0':'Zero', 'param1':10000, 'default':False}\n",
    "\n",
    "named_paramter_function(**my_params)"
   ]
  },
  {
   "cell_type": "markdown",
   "metadata": {
    "heading_collapsed": true,
    "hidden": true
   },
   "source": [
    "### Exercise"
   ]
  },
  {
   "cell_type": "markdown",
   "metadata": {
    "hidden": true
   },
   "source": [
    "Let's add an attribute `moving` which indicates, with a boolean, whether the car is moving or not.\n",
    "\n",
    "Fill in the functions `stop()` and `go()` so that the attribute `moving` will reflect the car's present state of motion after the method is called.\n",
    "\n",
    "Make sure the method works by calling it, then printing the attribute."
   ]
  },
  {
   "cell_type": "code",
   "execution_count": null,
   "metadata": {
    "hidden": true
   },
   "outputs": [],
   "source": [
    "# Then we can add more attributes\n",
    "class Car:\n",
    "    \"\"\"Automotive object\"\"\"\n",
    "    \n",
    "    WHEELS = 4\n",
    "    \n",
    "    # default arguments included now in __init__\n",
    "    def __init__(self, doors=4, fwd=False, driver_mood='peaceful'):\n",
    "        \n",
    "        self.doors = doors\n",
    "        self.fwd = fwd\n",
    "        self.driver_mood = driver_mood\n",
    "        self.moving = moving\n",
    "        \n",
    "    def honk(self):                   # These are methods we can call on *any* car.\n",
    "        print('Beep beep')\n",
    "        \n",
    "    def go(self):\n",
    "        pass\n",
    "    \n",
    "    def stop(self):\n",
    "        pass"
   ]
  },
  {
   "cell_type": "code",
   "execution_count": null,
   "metadata": {
    "hidden": true
   },
   "outputs": [],
   "source": [
    "# Test your code from above\n",
    "\n",
    "civic = Car()\n",
    "print(civic.moving)\n",
    "\n",
    "civic.go()\n",
    "print(civic.moving)\n",
    "\n",
    "civic.stop()\n",
    "print(civic.moving)"
   ]
  },
  {
   "cell_type": "markdown",
   "metadata": {
    "heading_collapsed": true
   },
   "source": [
    "## Overview of inheritance"
   ]
  },
  {
   "cell_type": "markdown",
   "metadata": {
    "hidden": true
   },
   "source": [
    "We can also define classes in terms of *other* classes, in which case the new classes **inherit** the attributes and methods from the classes in terms of which they're defined.\n",
    "\n",
    "Suppose we decided we want to create an electric car class."
   ]
  },
  {
   "cell_type": "code",
   "execution_count": null,
   "metadata": {
    "hidden": true
   },
   "outputs": [],
   "source": [
    "#  Then we can add more attributes\n",
    "class ElectricCar(Car):\n",
    "    \"\"\"Automotive object\"\"\"\n",
    "    \n",
    "    pass"
   ]
  },
  {
   "cell_type": "code",
   "execution_count": null,
   "metadata": {
    "hidden": true
   },
   "outputs": [],
   "source": [
    "prius = ElectricCar()\n",
    "prius.honk()\n",
    "prius.WHEELS"
   ]
  },
  {
   "cell_type": "code",
   "execution_count": null,
   "metadata": {
    "hidden": true
   },
   "outputs": [],
   "source": [
    "#  Then we can add more attributes\n",
    "class ElectricCar(Car):\n",
    "    \"\"\"Automotive object\"\"\"\n",
    "    \n",
    "    # default arguments included now in __init__\n",
    "    def __init__(self, hybrid=False):\n",
    "        super().__init__()                   # super() refers to the parent class.\n",
    "                                             # See https://realpython.com/python-super/\n",
    "                                             # for more.\n",
    "        self.hybrid = True"
   ]
  },
  {
   "cell_type": "code",
   "execution_count": null,
   "metadata": {
    "hidden": true
   },
   "outputs": [],
   "source": [
    "#  And we can overwrite methods and parent attributes\n",
    "class ElectricCar(Car):\n",
    "    \"\"\"Automotive object\"\"\"\n",
    "    \n",
    "    # default arguments included now in __init__\n",
    "    def __init__(self, hybrid=False):\n",
    "        \n",
    "        # Prius owners are calmer than the average car owner\n",
    "        super().__init__(driver_mood='serene')\n",
    "        \n",
    "        self.hybrid = True\n",
    "        \n",
    "    # overwrite inherited methods\n",
    "    \n",
    "    def go(self):\n",
    "        \n",
    "        print('Whirrrrrr')\n",
    "        self.moving = True"
   ]
  },
  {
   "cell_type": "code",
   "execution_count": null,
   "metadata": {
    "hidden": true
   },
   "outputs": [],
   "source": [
    "prius = ElectricCar()\n",
    "print(prius.moving)"
   ]
  },
  {
   "cell_type": "code",
   "execution_count": null,
   "metadata": {
    "hidden": true
   },
   "outputs": [],
   "source": [
    "prius.go()\n",
    "prius.moving\n",
    "print(prius.driver_mood)"
   ]
  },
  {
   "cell_type": "code",
   "execution_count": null,
   "metadata": {
    "hidden": true
   },
   "outputs": [],
   "source": [
    "prius.stop()"
   ]
  },
  {
   "cell_type": "markdown",
   "metadata": {
    "heading_collapsed": true,
    "hidden": true
   },
   "source": [
    "### Another Example"
   ]
  },
  {
   "cell_type": "code",
   "execution_count": null,
   "metadata": {
    "hidden": true
   },
   "outputs": [],
   "source": [
    "class Shape:\n",
    "    def __init__(self, n):\n",
    "        self.n_sides = n\n",
    "    sides = []"
   ]
  },
  {
   "cell_type": "code",
   "execution_count": null,
   "metadata": {
    "hidden": true
   },
   "outputs": [],
   "source": [
    "class Triangle(Shape):\n",
    "    def __init__(self):\n",
    "        Shape.__init__(self, 3)\n",
    "\n",
    "    def findArea(self):\n",
    "        a, b, c = self.sides\n",
    "        # calculate the semi-perimeter\n",
    "        s = (a + b + c) / 2\n",
    "        area = (s*(s-a)*(s-b)*(s-c)) ** 0.5\n",
    "        print('The area of the triangle is %0.2f' %area)"
   ]
  },
  {
   "cell_type": "code",
   "execution_count": null,
   "metadata": {
    "hidden": true
   },
   "outputs": [],
   "source": [
    "isosc = Triangle()\n",
    "\n",
    "isosc.n_sides"
   ]
  },
  {
   "cell_type": "code",
   "execution_count": null,
   "metadata": {
    "hidden": true
   },
   "outputs": [],
   "source": [
    "# This will throw an error!\n",
    "\n",
    "isosc.findArea()"
   ]
  },
  {
   "cell_type": "code",
   "execution_count": null,
   "metadata": {
    "hidden": true
   },
   "outputs": [],
   "source": [
    "isosc.sides = [2, 2, 2]\n",
    "\n",
    "isosc.findArea()"
   ]
  },
  {
   "cell_type": "markdown",
   "metadata": {
    "heading_collapsed": true,
    "hidden": true
   },
   "source": [
    "### Exercise"
   ]
  },
  {
   "cell_type": "markdown",
   "metadata": {
    "hidden": true
   },
   "source": [
    "Use inheritance together with `StandardScaler` to create your own scaler that includes, as an attribute, a list of the largest and smallest z-scores for each attribute to which the scaler has been fitted.\n",
    "\n",
    "**Test**: After you run `fit_extra()` on the $X$ defined below and then fetch the extremes attribute, your array values should match these:\n",
    "\n",
    "| Feature 1 | Feature 2|\n",
    "| - | - |\n",
    "|-1.2068162135708724 | 1.6237142612014306| <br/>\n",
    " |-1.1298429699595565 | 1.6037759986784352 |"
   ]
  },
  {
   "cell_type": "code",
   "execution_count": null,
   "metadata": {
    "hidden": true
   },
   "outputs": [],
   "source": [
    "X, y = make_regression(n_features=2, n_samples=5, random_state=42)"
   ]
  },
  {
   "cell_type": "code",
   "execution_count": null,
   "metadata": {
    "hidden": true
   },
   "outputs": [],
   "source": [
    "class MyScaler(StandardScaler):\n",
    "    \n",
    "    def __init__(self):\n",
    "        super().__init__()\n",
    "    \n",
    "    def fit_extra(self, X):\n",
    "        \n",
    "        # ???\n",
    "        \n",
    "        self.fit(X)\n",
    "        return self"
   ]
  },
  {
   "cell_type": "code",
   "execution_count": null,
   "metadata": {
    "hidden": true
   },
   "outputs": [],
   "source": [
    "new = MyScaler()"
   ]
  },
  {
   "cell_type": "code",
   "execution_count": null,
   "metadata": {
    "hidden": true
   },
   "outputs": [],
   "source": [
    "new.fit_extra(X)"
   ]
  },
  {
   "cell_type": "code",
   "execution_count": null,
   "metadata": {
    "hidden": true
   },
   "outputs": [],
   "source": [
    "new.extremes"
   ]
  },
  {
   "cell_type": "code",
   "execution_count": null,
   "metadata": {
    "hidden": true
   },
   "outputs": [],
   "source": [
    "new.transform(X)"
   ]
  },
  {
   "cell_type": "markdown",
   "metadata": {
    "hidden": true
   },
   "source": [
    "<details><summary>\n",
    "    Answer code here\n",
    "    </summary>\n",
    "    <code>self.extremes = [((min(feat)-feat.mean()) / feat.std(),\n",
    "        (max(feat)-feat.mean()) / feat.std()) for feat in X.T]</code>\n",
    "    </details>"
   ]
  },
  {
   "cell_type": "markdown",
   "metadata": {
    "heading_collapsed": true
   },
   "source": [
    "## Important data science tools through the lens of objects: "
   ]
  },
  {
   "cell_type": "markdown",
   "metadata": {
    "hidden": true
   },
   "source": [
    "We are becomming more and more familiar with a series of methods with names such as `fit()` and `fit_transform()`.\n",
    "\n",
    "After instantiating an instance of a `StandardScaler`, `LinearRegression`, or `OneHotEncoder`, we use `fit()` to learn about the dataset and save what is learned. What is learned is saved as attributes."
   ]
  },
  {
   "cell_type": "markdown",
   "metadata": {
    "heading_collapsed": true,
    "hidden": true
   },
   "source": [
    "### `StandardScaler `"
   ]
  },
  {
   "cell_type": "markdown",
   "metadata": {
    "hidden": true
   },
   "source": [
    "The `StandardScaler` takes a series and, for each element, computes the difference between the element and the mean of the series, and then divides by the standard deviation.\n",
    "\n",
    "$\\Large z = \\frac{x - \\mu}{s}$"
   ]
  },
  {
   "cell_type": "markdown",
   "metadata": {
    "hidden": true
   },
   "source": [
    "What attributes and methods are available for a Standard Scaler object? Let's go back to the code on [GitHub](https://github.com/scikit-learn/scikit-learn/blob/master/sklearn/preprocessing/_data.py). In many typical cases the `.fit()` method relies on the [`_incremental_mean_and_var()` function](https://github.com/scikit-learn/scikit-learn/blob/main/sklearn/utils/extmath.py/).\n",
    "\n",
    "#### Attributes\n",
    "\n",
    "##### `.scale_`"
   ]
  },
  {
   "cell_type": "code",
   "execution_count": null,
   "metadata": {
    "hidden": true
   },
   "outputs": [],
   "source": [
    "# Instantiate a standard scaler object\n",
    "greg = StandardScaler()\n",
    "\n",
    "# We can instantiate as many scaler objects as we want\n",
    "max_ = StandardScaler()"
   ]
  },
  {
   "cell_type": "code",
   "execution_count": null,
   "metadata": {
    "hidden": true
   },
   "outputs": [],
   "source": [
    "greg == max_"
   ]
  },
  {
   "cell_type": "code",
   "execution_count": null,
   "metadata": {
    "hidden": true
   },
   "outputs": [],
   "source": [
    "# Let's create a dataframe with two series\n",
    "\n",
    "np.random.seed(42)\n",
    "series_1 = np.random.normal(3, 1, 1000)\n",
    "\n",
    "print(series_1.mean())\n",
    "print(series_1.std())"
   ]
  },
  {
   "cell_type": "markdown",
   "metadata": {
    "hidden": true
   },
   "source": [
    "When we fit the `StandardScaler`, it studies the object passed to it, and saves what is learned in its instance attributes."
   ]
  },
  {
   "cell_type": "code",
   "execution_count": null,
   "metadata": {
    "hidden": true
   },
   "outputs": [],
   "source": [
    "greg.fit(series_1.reshape(-1,1))\n",
    "\n",
    "# standard deviation is saved in the attribute \"scale_\"\n",
    "greg.scale_"
   ]
  },
  {
   "cell_type": "code",
   "execution_count": null,
   "metadata": {
    "hidden": true
   },
   "outputs": [],
   "source": [
    "# mean is saved into the attribute \"mean_\"\n",
    "greg.mean_"
   ]
  },
  {
   "cell_type": "code",
   "execution_count": null,
   "metadata": {
    "hidden": true
   },
   "outputs": [],
   "source": [
    "# Knowledge Check\n",
    "\n",
    "# What value should I pass into the `transform()` method to\n",
    "# get a return of 0?\n",
    "\n",
    "greg.transform([])"
   ]
  },
  {
   "cell_type": "code",
   "execution_count": null,
   "metadata": {
    "hidden": true
   },
   "outputs": [],
   "source": [
    "# We can then use these attributes to transform objects\n",
    "\n",
    "np.random.seed(42)\n",
    "random_numbers = np.random.normal(3, 1, 2)\n",
    "random_numbers"
   ]
  },
  {
   "cell_type": "code",
   "execution_count": null,
   "metadata": {
    "hidden": true
   },
   "outputs": [],
   "source": [
    "greg.transform(random_numbers.reshape(-1, 1))"
   ]
  },
  {
   "cell_type": "code",
   "execution_count": null,
   "metadata": {
    "hidden": true
   },
   "outputs": [],
   "source": [
    "# We can also use a scaler on a DataFrame\n",
    "\n",
    "series_1 = np.random.normal(3, 1, 1000)\n",
    "series_2 = np.random.uniform(0, 100, 1000)\n",
    "df_2 = pd.DataFrame([series_1, series_2]).T\n",
    "ss_df = StandardScaler()\n",
    "ss_df.fit_transform(df_2)"
   ]
  },
  {
   "cell_type": "code",
   "execution_count": null,
   "metadata": {
    "hidden": true
   },
   "outputs": [],
   "source": [
    "ss_df.transform([[5, 50]])"
   ]
  },
  {
   "cell_type": "markdown",
   "metadata": {
    "heading_collapsed": true,
    "hidden": true
   },
   "source": [
    "### Task: One-hot Encoder"
   ]
  },
  {
   "cell_type": "code",
   "execution_count": null,
   "metadata": {
    "hidden": true,
    "scrolled": true
   },
   "outputs": [],
   "source": [
    "np.random.seed(42)\n",
    "# Let's create a DataFrame that records a total number of orders\n",
    "# by day of the week: \n",
    "\n",
    "days = np.random.choice(['m', 't', 'w', 'th', 'f', 's', 'su'], 1000)\n",
    "orders = np.random.randint(0, 1000, 1000)\n",
    "\n",
    "df = pd.DataFrame([days, orders]).T\n",
    "df.columns = ['days', 'orders']\n",
    "df.head()"
   ]
  },
  {
   "cell_type": "code",
   "execution_count": null,
   "metadata": {
    "hidden": true
   },
   "outputs": [],
   "source": [
    "df.shape"
   ]
  },
  {
   "cell_type": "markdown",
   "metadata": {
    "hidden": true
   },
   "source": [
    "Let's interact with an important parameter we can pass when instantiating the `OneHotEncoder` object: `drop`.  \n",
    "\n",
    "By dropping a column, we avoid the [dummy variable trap](https://en.wikipedia.org/wiki/Dummy_variable_(statistics)).  \n",
    "\n",
    "By passing `drop=True`, the encoder will drop the first category it happens upon.\n",
    "\n",
    "If we want to drop a particular column, we can also pass that in."
   ]
  },
  {
   "cell_type": "code",
   "execution_count": null,
   "metadata": {
    "hidden": true
   },
   "outputs": [],
   "source": [
    "# Instantiate a OneHotEncoder object\n",
    "\n",
    "ohe = OneHotEncoder(drop=['m'])"
   ]
  },
  {
   "cell_type": "code",
   "execution_count": null,
   "metadata": {
    "hidden": true
   },
   "outputs": [],
   "source": [
    "ohe_matrix = ohe.fit_transform(df[['days']])"
   ]
  },
  {
   "cell_type": "code",
   "execution_count": null,
   "metadata": {
    "hidden": true
   },
   "outputs": [],
   "source": [
    "ohe_matrix"
   ]
  },
  {
   "cell_type": "code",
   "execution_count": null,
   "metadata": {
    "hidden": true
   },
   "outputs": [],
   "source": [
    "# Look at __dict__ and checkout drop_idx_.\n",
    "# Did it do what you wanted it to do?\n",
    "\n",
    "ohe.__dict__['drop_idx_']"
   ]
  },
  {
   "cell_type": "code",
   "execution_count": null,
   "metadata": {
    "hidden": true
   },
   "outputs": [],
   "source": [
    "# check out the categories_ attribute\n",
    "ohe.categories_"
   ]
  },
  {
   "cell_type": "code",
   "execution_count": null,
   "metadata": {
    "hidden": true
   },
   "outputs": [],
   "source": [
    "# Check out the object itself\n",
    "ohe_matrix"
   ]
  },
  {
   "cell_type": "markdown",
   "metadata": {
    "hidden": true
   },
   "source": [
    "It is a sparse matrix, which is a matrix that is composed mostly of zeros"
   ]
  },
  {
   "cell_type": "code",
   "execution_count": null,
   "metadata": {
    "hidden": true
   },
   "outputs": [],
   "source": [
    "# We can convert it to an array like so\n",
    "oh_df = pd.DataFrame.sparse.from_spmatrix(ohe_matrix)"
   ]
  },
  {
   "cell_type": "code",
   "execution_count": null,
   "metadata": {
    "hidden": true
   },
   "outputs": [],
   "source": [
    "# Now, using the categories_ attribute, set the column names\n",
    "# to the correct days of the week.\n",
    "\n",
    "ohe_columns = list(ohe.categories_[0])\n",
    "ohe_columns.pop(int(ohe.drop_idx_))\n",
    "oh_df.columns = ohe_columns\n",
    "oh_df.head()"
   ]
  },
  {
   "cell_type": "code",
   "execution_count": null,
   "metadata": {
    "hidden": true
   },
   "outputs": [],
   "source": [
    "# Add the onehotencoded columns to the original df, and drop the days column\n",
    "\n",
    "df = df.join(oh_df).drop('days', axis=1)\n",
    "df.head()"
   ]
  },
  {
   "cell_type": "markdown",
   "metadata": {
    "heading_collapsed": true
   },
   "source": [
    "## Level Up"
   ]
  },
  {
   "cell_type": "markdown",
   "metadata": {
    "heading_collapsed": true,
    "hidden": true
   },
   "source": [
    "### Setters, Getters, and Using `property`\n",
    "\n",
    "#TODO"
   ]
  }
 ],
 "metadata": {
  "kernelspec": {
   "display_name": "Python 3",
   "language": "python",
   "name": "python3"
  },
  "language_info": {
   "codemirror_mode": {
    "name": "ipython",
    "version": 3
   },
   "file_extension": ".py",
   "mimetype": "text/x-python",
   "name": "python",
   "nbconvert_exporter": "python",
   "pygments_lexer": "ipython3",
   "version": "3.8.5"
  },
  "toc": {
   "base_numbering": 1,
   "nav_menu": {},
   "number_sections": true,
   "sideBar": false,
   "skip_h1_title": true,
   "title_cell": "Table of Contents",
   "title_sidebar": "TOC",
   "toc_cell": true,
   "toc_position": {},
   "toc_section_display": false,
   "toc_window_display": false
  }
 },
 "nbformat": 4,
 "nbformat_minor": 4
}
